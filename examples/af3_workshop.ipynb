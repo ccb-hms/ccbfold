{
 "cells": [
  {
   "cell_type": "markdown",
   "id": "3a5eee05",
   "metadata": {},
   "source": [
    "# Alphafold 3 Workshop\n",
    "credits:\n",
    "\n",
    "This notebook will setup and run the components in readme.md in one file that could be run on an interactive node through openOnDemand"
   ]
  },
  {
   "cell_type": "markdown",
   "id": "6e02eb43",
   "metadata": {},
   "source": [
    "### 01_Basics"
   ]
  },
  {
   "cell_type": "code",
   "execution_count": null,
   "id": "9b0fc677",
   "metadata": {},
   "outputs": [],
   "source": [
    "import pyslurm\n",
    "desc = pyslurm.JobSubmitDescription(\n",
    "    name=\"af3-7rce\",\n",
    "    cpus_per_task=8,\n",
    "    time_limit=\"10-00:00:00\",\n",
    "    script=\"pdb_7rce_batch.sh\"\n",
    ")\n",
    "job_id = desc.submit()\n",
    "print(job_id)\n"
   ]
  },
  {
   "cell_type": "code",
   "execution_count": null,
   "id": "9811304d",
   "metadata": {},
   "outputs": [],
   "source": [
    "\n",
    "99"
   ]
  }
 ],
 "metadata": {
  "kernelspec": {
   "display_name": ".venv",
   "language": "python",
   "name": "python3"
  },
  "language_info": {
   "name": "python",
   "version": "3.12.9"
  }
 },
 "nbformat": 4,
 "nbformat_minor": 5
}
