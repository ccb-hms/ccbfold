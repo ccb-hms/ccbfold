{
 "cells": [
  {
   "cell_type": "code",
   "execution_count": null,
   "id": "2f916f51",
   "metadata": {},
   "outputs": [],
   "source": [
    "import Bio.PDB as biopyPDB"
   ]
  },
  {
   "cell_type": "code",
   "execution_count": null,
   "id": "25932721",
   "metadata": {},
   "outputs": [],
   "source": []
  },
  {
   "cell_type": "code",
   "execution_count": null,
   "id": "621f175c",
   "metadata": {},
   "outputs": [],
   "source": []
  }
 ],
 "metadata": {
  "kernelspec": {
   "display_name": ".venv",
   "language": "python",
   "name": "python3"
  },
  "language_info": {
   "name": "python",
   "version": "3.12.9"
  }
 },
 "nbformat": 4,
 "nbformat_minor": 5
}
