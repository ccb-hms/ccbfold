{
 "cells": [
  {
   "cell_type": "code",
   "execution_count": null,
   "id": "2f916f51",
   "metadata": {},
   "outputs": [],
   "source": [
    "import Bio.PDB as biopyPDB\n",
    "import eval_plots"
   ]
  },
  {
   "cell_type": "markdown",
   "id": "ed167950",
   "metadata": {},
   "source": [
    "### 3D view of structure\n",
    "- within notebook: ipymolstar"
   ]
  },
  {
   "cell_type": "code",
   "execution_count": null,
   "id": "25932721",
   "metadata": {},
   "outputs": [],
   "source": [
    "cifparser = biopyPDB.MMCIFParser()\n",
    "pdbparser = biopyPDB.PDBParser()\n",
    "\n",
    "structure1 = parser.get_structure(\"pdb_7rce\",\"model.cif\")"
   ]
  },
  {
   "cell_type": "markdown",
   "id": "2de1587a",
   "metadata": {},
   "source": [
    "### Quality evaluation and confidence metrics\n",
    "\n",
    "- Confidence Plot: _plddt_plot.png\n",
    "- PAE Heatmap: _pae_heatmap.png\n",
    "- PTM and iPTM Scores: _scores.txt"
   ]
  },
  {
   "cell_type": "code",
   "execution_count": null,
   "id": "621f175c",
   "metadata": {},
   "outputs": [],
   "source": [
    "process_json(\"/7rce.json\")\n"
   ]
  }
 ],
 "metadata": {
  "kernelspec": {
   "display_name": ".venv",
   "language": "python",
   "name": "python3"
  },
  "language_info": {
   "name": "python",
   "version": "3.12.9"
  }
 },
 "nbformat": 4,
 "nbformat_minor": 5
}
